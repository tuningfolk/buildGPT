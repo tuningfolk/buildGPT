{
 "cells": [
  {
   "cell_type": "code",
   "execution_count": 1,
   "id": "a959bb2c-386b-4e9d-b90c-bc0fc3a74743",
   "metadata": {},
   "outputs": [],
   "source": [
    "import torch\n",
    "import torch.nn.functional as F\n",
    "import matplotlib.pyplot as plt\n",
    "%matplotlib inline"
   ]
  },
  {
   "cell_type": "code",
   "execution_count": 2,
   "id": "5728aa63-4786-4e82-8868-7f9529316609",
   "metadata": {},
   "outputs": [
    {
     "data": {
      "text/plain": [
       "['emma', 'olivia', 'ava', 'isabella', 'sophia']"
      ]
     },
     "execution_count": 2,
     "metadata": {},
     "output_type": "execute_result"
    }
   ],
   "source": [
    "#read in all the names\n",
    "words = open('names.txt').read().splitlines()\n",
    "words[:5]"
   ]
  },
  {
   "cell_type": "code",
   "execution_count": 3,
   "id": "593e2b14-82b3-4173-9e7a-ebd1221a2d37",
   "metadata": {},
   "outputs": [
    {
     "data": {
      "text/plain": [
       "32033"
      ]
     },
     "execution_count": 3,
     "metadata": {},
     "output_type": "execute_result"
    }
   ],
   "source": [
    "len(words)"
   ]
  },
  {
   "cell_type": "code",
   "execution_count": 4,
   "id": "6f2516aa-10b4-45f1-ba3a-673729d180ed",
   "metadata": {},
   "outputs": [
    {
     "name": "stdout",
     "output_type": "stream",
     "text": [
      "{1: 'a', 2: 'b', 3: 'c', 4: 'd', 5: 'e', 6: 'f', 7: 'g', 8: 'h', 9: 'i', 10: 'j', 11: 'k', 12: 'l', 13: 'm', 14: 'n', 15: 'o', 16: 'p', 17: 'q', 18: 'r', 19: 's', 20: 't', 21: 'u', 22: 'v', 23: 'w', 24: 'x', 25: 'y', 26: 'z', 0: '.'}\n"
     ]
    }
   ],
   "source": [
    "chars = sorted(list(set(''.join(words))))\n",
    "stoi = {s: i+1 for i,s in enumerate(chars)}\n",
    "stoi['.'] = 0\n",
    "itos = {i:s for s,i in stoi.items()}\n",
    "print(itos)"
   ]
  },
  {
   "cell_type": "code",
   "execution_count": 33,
   "id": "75ac4c33-e60d-4752-8fb1-8bd72a9eab26",
   "metadata": {},
   "outputs": [
    {
     "name": "stdout",
     "output_type": "stream",
     "text": [
      "torch.Size([182625, 3]) torch.Size([182625])\n",
      "torch.Size([22655, 3]) torch.Size([22655])\n",
      "torch.Size([22866, 3]) torch.Size([22866])\n"
     ]
    }
   ],
   "source": [
    "#build the dataset\n",
    "def build_dataset(words):\n",
    "    block_size = 3 # context length: how many characters do we take to predict the next one?\n",
    "    X,Y = [],[]\n",
    "    for w in words:\n",
    "        # print(w)\n",
    "        context = [0]*block_size\n",
    "        for ch in w+'.':\n",
    "            ix = stoi[ch]\n",
    "            X.append(context)\n",
    "            Y.append(ix)\n",
    "            # print(''.join(itos[i] for i in context),'-->',itos[ix])\n",
    "            context.pop(0)\n",
    "            context.append(ix)\n",
    "    X = torch.tensor(X)\n",
    "    Y = torch.tensor(Y)\n",
    "    print(X.shape, Y.shape)\n",
    "    return X, Y\n",
    "\n",
    "import random\n",
    "random.seed(42)\n",
    "random.shuffle(words)\n",
    "n1 = int(0.8*len(words))\n",
    "n2 = int(0.9*len(words))\n",
    "Xtr, Ytr = build_dataset(words[:n1])\n",
    "Xdev, Ydev = build_dataset(words[n1:n2])\n",
    "Xte, Yte = build_dataset(words[n2:])"
   ]
  },
  {
   "cell_type": "code",
   "execution_count": 38,
   "id": "53949c81-2a57-41b9-8ac1-caac42f4e016",
   "metadata": {},
   "outputs": [
    {
     "name": "stdout",
     "output_type": "stream",
     "text": [
      "training:  25626 words\n",
      "val:  3203 words\n",
      "test:  3204 words\n"
     ]
    }
   ],
   "source": [
    "print(\"training: \", n1, \"words\")\n",
    "print(\"val: \", n2-n1, \"words\")\n",
    "print(\"test: \", len(words)-n2, \"words\")"
   ]
  },
  {
   "cell_type": "code",
   "execution_count": 7,
   "id": "fb567595-9d16-46d1-b2bf-abeb07f732a7",
   "metadata": {},
   "outputs": [],
   "source": [
    "C = torch.randn((27,2))"
   ]
  },
  {
   "cell_type": "code",
   "execution_count": 8,
   "id": "5c50b32b-8c5f-4573-adea-99a0a933b898",
   "metadata": {},
   "outputs": [
    {
     "data": {
      "text/plain": [
       "torch.int64"
      ]
     },
     "execution_count": 8,
     "metadata": {},
     "output_type": "execute_result"
    }
   ],
   "source": [
    "F.one_hot(torch.tensor(5), num_classes=27).dtype"
   ]
  },
  {
   "cell_type": "code",
   "execution_count": 9,
   "id": "66fcd15f-c1cb-45da-a84b-c25a72efc24c",
   "metadata": {},
   "outputs": [
    {
     "data": {
      "text/plain": [
       "tensor([0.1963, 0.7793])"
      ]
     },
     "execution_count": 9,
     "metadata": {},
     "output_type": "execute_result"
    }
   ],
   "source": [
    "F.one_hot(torch.tensor(5), num_classes=27).float() @ C"
   ]
  },
  {
   "cell_type": "code",
   "execution_count": 10,
   "id": "f0756433-bbd9-425c-9bde-4be5861431d2",
   "metadata": {},
   "outputs": [
    {
     "data": {
      "text/plain": [
       "tensor([0.1963, 0.7793])"
      ]
     },
     "execution_count": 10,
     "metadata": {},
     "output_type": "execute_result"
    }
   ],
   "source": [
    "C[5]"
   ]
  },
  {
   "cell_type": "code",
   "execution_count": 11,
   "id": "24f8030c-8d8a-4198-9095-15ddc3779309",
   "metadata": {},
   "outputs": [
    {
     "data": {
      "text/plain": [
       "torch.Size([228146, 3, 2])"
      ]
     },
     "execution_count": 11,
     "metadata": {},
     "output_type": "execute_result"
    }
   ],
   "source": [
    "emb = C[X]\n",
    "emb.shape"
   ]
  },
  {
   "cell_type": "code",
   "execution_count": 12,
   "id": "4cf94e18-0e47-4908-ad6f-0a034adf344e",
   "metadata": {},
   "outputs": [],
   "source": [
    "W1 = torch.randn((6,100))\n",
    "b1 = torch.randn(100)"
   ]
  },
  {
   "cell_type": "code",
   "execution_count": 13,
   "id": "543754c9-24d6-48ff-9590-987e18d0c953",
   "metadata": {},
   "outputs": [
    {
     "data": {
      "text/plain": [
       "torch.Size([228146, 6])"
      ]
     },
     "execution_count": 13,
     "metadata": {},
     "output_type": "execute_result"
    }
   ],
   "source": [
    "torch.cat(torch.unbind(emb,1), 1).shape"
   ]
  },
  {
   "cell_type": "code",
   "execution_count": 16,
   "id": "a7a6d1bb-fc2a-4b64-9a47-5dbbcee360a8",
   "metadata": {},
   "outputs": [],
   "source": [
    "W2 = torch.randn(100,27)\n",
    "b2 = torch.randn(27)"
   ]
  },
  {
   "cell_type": "code",
   "execution_count": 23,
   "id": "732959f6-9617-4b55-99fa-55a0de171866",
   "metadata": {},
   "outputs": [],
   "source": [
    "logits = h@W2 + b2"
   ]
  },
  {
   "cell_type": "code",
   "execution_count": 24,
   "id": "a2a2b5e5-c631-41b7-9ea1-e09bc79d9e38",
   "metadata": {},
   "outputs": [
    {
     "data": {
      "text/plain": [
       "torch.Size([32, 27])"
      ]
     },
     "execution_count": 24,
     "metadata": {},
     "output_type": "execute_result"
    }
   ],
   "source": [
    "logits.shape"
   ]
  },
  {
   "cell_type": "code",
   "execution_count": 25,
   "id": "697809b6-81e0-4f28-9fee-07830a39df18",
   "metadata": {},
   "outputs": [],
   "source": [
    "counts = logits.exp()"
   ]
  },
  {
   "cell_type": "code",
   "execution_count": 26,
   "id": "7a8a8386-e2b9-47e3-9925-6a974919f91c",
   "metadata": {},
   "outputs": [],
   "source": [
    "probs = counts/counts.sum(1,keepdims=True)"
   ]
  },
  {
   "cell_type": "code",
   "execution_count": 27,
   "id": "fa229072-2e28-4477-8f65-bb4c0c38efa0",
   "metadata": {},
   "outputs": [
    {
     "data": {
      "text/plain": [
       "torch.Size([32, 27])"
      ]
     },
     "execution_count": 27,
     "metadata": {},
     "output_type": "execute_result"
    }
   ],
   "source": [
    "probs.shape"
   ]
  },
  {
   "cell_type": "code",
   "execution_count": 28,
   "id": "e72c8513-abdf-4e43-8d4b-fc0174e33c59",
   "metadata": {},
   "outputs": [
    {
     "data": {
      "text/plain": [
       "tensor(1.)"
      ]
     },
     "execution_count": 28,
     "metadata": {},
     "output_type": "execute_result"
    }
   ],
   "source": [
    "probs[0].sum()"
   ]
  },
  {
   "cell_type": "code",
   "execution_count": 30,
   "id": "2a769710-eaa1-40f3-9449-4887eeb84e82",
   "metadata": {},
   "outputs": [
    {
     "data": {
      "text/plain": [
       "torch.Size([32])"
      ]
     },
     "execution_count": 30,
     "metadata": {},
     "output_type": "execute_result"
    }
   ],
   "source": [
    "Y.shapeuu"
   ]
  },
  {
   "cell_type": "code",
   "execution_count": 33,
   "id": "9d5dd9ae-cec9-4315-bd43-b96ffc1b9c60",
   "metadata": {},
   "outputs": [
    {
     "data": {
      "text/plain": [
       "tensor([2.5356e-14, 9.1420e-07, 9.1420e-07, 4.9083e-16, 4.5948e-09, 8.4550e-02,\n",
       "        4.9714e-07, 1.9030e-06, 2.3874e-14, 1.9030e-06, 1.6222e-12, 1.6793e-10,\n",
       "        1.5940e-11, 1.7764e-07, 1.5940e-11, 2.3402e-04, 1.1117e-15, 2.4558e-09,\n",
       "        2.6307e-16, 2.7049e-13, 2.6748e-14, 3.9298e-10, 3.9298e-10, 2.6307e-16,\n",
       "        6.7742e-11, 5.0734e-01, 8.4550e-02, 7.3692e-03, 1.0129e-07, 1.9030e-06,\n",
       "        1.6222e-12, 1.6793e-10])"
      ]
     },
     "execution_count": 33,
     "metadata": {},
     "output_type": "execute_result"
    }
   ],
   "source": [
    "#checking the current probabilities for the correct value\n",
    "probs[torch.arange(32), Y]"
   ]
  },
  {
   "cell_type": "code",
   "execution_count": 34,
   "id": "0561c19a-967a-4704-ab83-f8047cd9d2a3",
   "metadata": {},
   "outputs": [],
   "source": [
    "loss = -probs[torch.arange(32), Y].log().mean()"
   ]
  },
  {
   "cell_type": "code",
   "execution_count": 35,
   "id": "9987265f-0b58-4a8a-a856-f98b6506f449",
   "metadata": {},
   "outputs": [
    {
     "data": {
      "text/plain": [
       "tensor(20.3581)"
      ]
     },
     "execution_count": 35,
     "metadata": {},
     "output_type": "execute_result"
    }
   ],
   "source": [
    "loss"
   ]
  },
  {
   "cell_type": "markdown",
   "id": "4fe43988-08aa-49c3-8008-24ca06b0e053",
   "metadata": {},
   "source": [
    "### Cleaner version"
   ]
  },
  {
   "cell_type": "code",
   "execution_count": 41,
   "id": "08698b1c-67b6-479b-98a8-fee87b1414fc",
   "metadata": {},
   "outputs": [
    {
     "data": {
      "text/plain": [
       "(torch.Size([182625, 3]), torch.Size([182625]))"
      ]
     },
     "execution_count": 41,
     "metadata": {},
     "output_type": "execute_result"
    }
   ],
   "source": [
    "Xtr.shape, Ytr.shape"
   ]
  },
  {
   "cell_type": "code",
   "execution_count": 106,
   "id": "d3898f16-44f1-4ab9-9015-4b44d6d75add",
   "metadata": {},
   "outputs": [],
   "source": [
    "g = torch.Generator().manual_seed(2147483647)\n",
    "C = torch.randn((27,10), generator=g)\n",
    "W1 = torch.randn((30,200), generator=g)\n",
    "b1 = torch.randn(200, generator=g)\n",
    "W2 = torch.randn((200,27), generator=g)\n",
    "b2 = torch.randn(27, generator=g)\n",
    "parameters = [C, W1, b1, W2, b2]"
   ]
  },
  {
   "cell_type": "code",
   "execution_count": 52,
   "id": "3c5f0fec-7d23-4390-b2db-55a015d56cac",
   "metadata": {},
   "outputs": [
    {
     "data": {
      "text/plain": [
       "10281"
      ]
     },
     "execution_count": 52,
     "metadata": {},
     "output_type": "execute_result"
    }
   ],
   "source": [
    "sum( p.nelement() for p in parameters) #no. of parameters in total"
   ]
  },
  {
   "cell_type": "code",
   "execution_count": 111,
   "id": "4334eb20-bc4f-4a29-8521-fcb78ed62f34",
   "metadata": {},
   "outputs": [],
   "source": [
    "for p in parameters:\n",
    "    p.requires_grad = True"
   ]
  },
  {
   "cell_type": "code",
   "execution_count": 112,
   "id": "9f57023b-8ed7-4085-8309-359f0cf00c36",
   "metadata": {
    "scrolled": true
   },
   "outputs": [],
   "source": [
    "lossi = []\n",
    "stepi = []"
   ]
  },
  {
   "cell_type": "code",
   "execution_count": 135,
   "id": "510c0577-3ad0-4d92-b3dd-7d39b24282a2",
   "metadata": {
    "scrolled": true
   },
   "outputs": [
    {
     "name": "stdout",
     "output_type": "stream",
     "text": [
      "2.892313003540039\n"
     ]
    }
   ],
   "source": [
    "for i in range(2000):\n",
    "    #forward pass\n",
    "    #minibatch construct\n",
    "    ix = torch.randint(0, Xtr.shape[0], (32,)) # the training is much faster now!\n",
    "    #went from taking a couple of seconds to being almost instantaneous!\n",
    "    #because we are estimating only from 32 examples, the quality of the gradient is lower, so the direction of the gradient is not as reliable\n",
    "    #but we assume that the gradient is good enough that it is useful\n",
    "    #much better to have an approximate gradient and take more steps\n",
    "    #than it is to evaluate the exact gradient and take fewer steps.\n",
    "    \n",
    "    emb = C[Xtr[ix]] #(32,3,10)\n",
    "    h = torch.tanh(emb.view(-1,30)@W1 + b1)\n",
    "    logits = h@W2 + b2\n",
    "    # counts = logits.exp()\n",
    "    # probs = counts/counts.sum(1,keepdims=True)\n",
    "    # loss = -probs[tor_grad = True_grad = Truech.arange(32), Y].log().mean()\n",
    "    #much more efficient (used for classification)\n",
    "    #no new tensors made\n",
    "    #backward pass is made more efficient\n",
    "    #the results are well behaved, =>\n",
    "        #if one of the logits is 100, -> counts would have value inf for that logit\n",
    "        #impossible to calculate prob. and also the loss\n",
    "    loss = F.cross_entropy(logits,Ytr[ix]) \n",
    "    \n",
    "    #backward pass\n",
    "    for p in parameters:\n",
    "        p.grad = None\n",
    "    loss.backward()\n",
    "    #update\n",
    "    lr = 0.1 if i<100000 else 0.01\n",
    "    for p in parameters:\n",
    "        p.data += -lr * p.grad\n",
    "\n",
    "    #track stats\n",
    "    lossi.append(loss.log10().item())\n",
    "    stepi.append(i)\n",
    "print(loss.item())"
   ]
  },
  {
   "cell_type": "code",
   "execution_count": 136,
   "id": "1080e71b-bc0d-4ba4-bdbd-e073557f5109",
   "metadata": {
    "scrolled": true
   },
   "outputs": [
    {
     "data": {
      "image/png": "[encoded data removed]",
      "text/plain": [
       "<Figure size 640x480 with 1 Axes>"
      ]
     },
     "metadata": {},
     "output_type": "display_data"
    }
   ],
   "source": [
    "plt.plot(stepi, lossi)\n",
    "plt.show()"
   ]
  },
  {
   "cell_type": "code",
   "execution_count": 137,
   "id": "5aff8f38-ffd9-40d0-a9eb-c8d2fe1aaaf6",
   "metadata": {},
   "outputs": [
    {
     "data": {
      "text/plain": [
       "tensor(2.8053, grad_fn=<NllLossBackward0>)"
      ]
     },
     "execution_count": 137,
     "metadata": {},
     "output_type": "execute_result"
    }
   ],
   "source": [
    "emb = C[Xdev]\n",
    "h = torch.tanh(emb.view(-1,30)@W1 + b1)\n",
    "logits = h@W2 + b2\n",
    "loss = F.cross_entropy(logits,Ydev)\n",
    "loss"
   ]
  },
  {
   "cell_type": "code",
   "execution_count": 138,
   "id": "8bff3378-667b-4dee-ae32-5b305fe1850a",
   "metadata": {},
   "outputs": [
    {
     "data": {
      "image/png": "[encoded data removed]",
      "text/plain": [
       "<Figure size 800x800 with 1 Axes>"
      ]
     },
     "metadata": {},
     "output_type": "display_data"
    }
   ],
   "source": [
    "plt.figure(figsize=(8,8))\n",
    "plt.scatter(C[:,0].data ,C[:, 1].data, s=200)\n",
    "for i in range(C.shape[0]):\n",
    "    plt.text(C[i,0].item(), C[i,1].item(), itos[i], ha=\"center\", va=\"center\", color=\"white\")\n",
    "plt.grid('minor')"
   ]
  },
  {
   "cell_type": "markdown",
   "id": "be174586-27b6-435c-ae65-034b94312dcc",
   "metadata": {},
   "source": [
    "### Sample from the model"
   ]
  },
  {
   "cell_type": "code",
   "execution_count": 139,
   "id": "effd5f63-22da-41cc-9067-c8a649f76e80",
   "metadata": {},
   "outputs": [
    {
     "name": "stdout",
     "output_type": "stream",
     "text": [
      "uouecekphczwwecznecbkufvkxfvkx.\n",
      "ucyomtcbecbecbkufvkxfvkxfvkxekxekdekdekdekdekdfvwxekdekdekdekdfvwxecowwsexjtfvexvwioekdfvwxekdekdekdekdfvwxsccvwwsexjtyhezkdfvwxsccvsshczokuccmycbtcdecznecbkufvkxfvkx.\n",
      "qqowcccqqguccicjq.\n",
      "uotbduldfvwxscidmayrhjtyhccmyyrhjtrhelxekdekdekdekdbezfjt.\n",
      "u.\n",
      "uou.\n",
      "uou.\n",
      "uouecekphczwwvecctxvuczfkuocccqqcbgukdkfyzkdfvwxekdfvwxecowwsexjkogkofvwxvwioekdekdfvwxsccvwwiczkdfvwxekxekdekdekdekdfvwxmycbtcdecbkufvkx.\n",
      "uouecekphvkofvwxsccvmucbaxlwzkdbevxecowwsexjtyhlkoykdfvwxowiczkkokuccvkusfvkx.\n",
      "ucowwsexjtfvexvkofvwxsccvcvmucbtcwwweczokuccmyyrhjtyhjkovkofvwxekxekdekdfvwxsccvwwiczkdkfyzkdkfyzkokusfaecjtxvecccqqgmtzbecbkufvkxfvkx.\n",
      "uouecekphvkofvwxsccvccsqsqhwcttwbecbkufvkx.\n",
      "uoxekxekxmyzwgkczqzxjkogkofvkxfvkxfvkxfvkxfvkxfvkx.\n",
      "ucyomtcbecbkufvkxvkccvwwiczkdfvvxvwcccvwwiczkdfvwxsccvwwiczkdfvwxvwioekdekdfvwxekdkfyzkogkofvkxfvkx.\n",
      "q.\n",
      "u.\n",
      "uouecowwsexekxekdekdekdekdbevqbduldrhcbaxeqzxmtcbecbkufvkxfvkx.\n",
      "uoxekdekdekdekdekdfvwxekdekdbevqbdukdkfiulnhccmyyrhjtfvexvwioekdfvwxekdekdekdfucbtcdecznecbkufvkxfvkxfvkxagekdgeelehlezkdfvwxecowwsexjtyhlkoykdbevqbduldjqhwcoagekdekdjxjrmhhlxykdxvwioekdfvwxscidmdjrecbkufvkxekphvkofvwxekxykdbevkurkoiuszxjkogkofvkx.\n",
      "uouecekpjkogkoiuccvwwiczkkdfvwxekdekdekdekdekdekde.\n",
      "q.\n",
      "uccvwwiczkdfvwxscidmdjrecbkufvkxfvkx.\n"
     ]
    }
   ],
   "source": [
    "g = torch.Generator().manual_seed(2147483647+10)\n",
    "\n",
    "for _ in range(20):\n",
    "    out = []\n",
    "    context = [0]*block_size\n",
    "    while True:\n",
    "        emb = C[torch.tensor([context])] #(1,block_size,d)\n",
    "        h = torch.tanh(emb.view(1,-1)@W1 + b1)\n",
    "        logits = h@W2 + b2\n",
    "        probs = F.softmax(logits, dim=1)\n",
    "        ix  = torch.multinomial(probs, num_samples=1, generator=g).item()\n",
    "        context = context[1:]+[ix]\n",
    "        out.append(ix)\n",
    "        if ix == 0:\n",
    "            break\n",
    "    print(''.join(itos[i] for i in out))"
   ]
  },
  {
   "cell_type": "code",
   "execution_count": null,
   "id": "7a9440ac-169e-4c90-bdeb-b529b4660288",
   "metadata": {},
   "outputs": [],
   "source": []
  }
 ],
 "metadata": {
  "kernelspec": {
   "display_name": "Python 3 (ipykernel)",
   "language": "python",
   "name": "python3"
  },
  "language_info": {
   "codemirror_mode": {
    "name": "ipython",
    "version": 3
   },
   "file_extension": ".py",
   "mimetype": "text/x-python",
   "name": "python",
   "nbconvert_exporter": "python",
   "pygments_lexer": "ipython3",
   "version": "3.10.12"
  }
 },
 "nbformat": 4,
 "nbformat_minor": 5
}
