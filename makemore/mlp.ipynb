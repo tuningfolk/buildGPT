{
 "cells": [
  {
   "cell_type": "code",
   "execution_count": 93,
   "id": "a959bb2c-386b-4e9d-b90c-bc0fc3a74743",
   "metadata": {},
   "outputs": [],
   "source": [
    "import torch\n",
    "import torch.nn.functional as F\n",
    "import matplotlib.pyplot as plt\n",
    "%matplotlib inline"
   ]
  },
  {
   "cell_type": "code",
   "execution_count": 94,
   "id": "5728aa63-4786-4e82-8868-7f9529316609",
   "metadata": {},
   "outputs": [
    {
     "data": {
      "text/plain": [
       "['emma', 'olivia', 'ava', 'isabella', 'sophia']"
      ]
     },
     "execution_count": 94,
     "metadata": {},
     "output_type": "execute_result"
    }
   ],
   "source": [
    "#read in all the names\n",
    "words = open('names.txt').read().splitlines()\n",
    "words[:5]"
   ]
  },
  {
   "cell_type": "code",
   "execution_count": 95,
   "id": "593e2b14-82b3-4173-9e7a-ebd1221a2d37",
   "metadata": {},
   "outputs": [
    {
     "data": {
      "text/plain": [
       "32033"
      ]
     },
     "execution_count": 95,
     "metadata": {},
     "output_type": "execute_result"
    }
   ],
   "source": [
    "len(words)"
   ]
  },
  {
   "cell_type": "code",
   "execution_count": 96,
   "id": "6f2516aa-10b4-45f1-ba3a-673729d180ed",
   "metadata": {},
   "outputs": [
    {
     "name": "stdout",
     "output_type": "stream",
     "text": [
      "{1: 'a', 2: 'b', 3: 'c', 4: 'd', 5: 'e', 6: 'f', 7: 'g', 8: 'h', 9: 'i', 10: 'j', 11: 'k', 12: 'l', 13: 'm', 14: 'n', 15: 'o', 16: 'p', 17: 'q', 18: 'r', 19: 's', 20: 't', 21: 'u', 22: 'v', 23: 'w', 24: 'x', 25: 'y', 26: 'z', 0: '.'}\n"
     ]
    }
   ],
   "source": [
    "chars = sorted(list(set(''.join(words))))\n",
    "stoi = {s: i+1 for i,s in enumerate(chars)}\n",
    "stoi['.'] = 0\n",
    "itos = {i:s for s,i in stoi.items()}\n",
    "print(itos)"
   ]
  },
  {
   "cell_type": "code",
   "execution_count": 115,
   "id": "75ac4c33-e60d-4752-8fb1-8bd72a9eab26",
   "metadata": {},
   "outputs": [
    {
     "name": "stdout",
     "output_type": "stream",
     "text": [
      "torch.Size([182580, 3]) torch.Size([182580])\n",
      "torch.Size([22767, 3]) torch.Size([22767])\n",
      "torch.Size([22799, 3]) torch.Size([22799])\n"
     ]
    }
   ],
   "source": [
    "#build the dataset\n",
    "block_size = 3 # context length: how many characters do we take to predict the next one?\n",
    "def build_dataset(words):\n",
    "    \n",
    "    X,Y = [],[]\n",
    "    for w in words:\n",
    "        # print(w)\n",
    "        context = [0]*block_size\n",
    "        for ch in w+'.':\n",
    "            ix = stoi[ch]\n",
    "            X.append(context)\n",
    "            Y.append(ix)\n",
    "            # print(''.join(itos[i] for i in context),'-->',itos[ix])\n",
    "            context = context[1:]+[ix]\n",
    "    X = torch.tensor(X)\n",
    "    Y = torch.tensor(Y)\n",
    "    print(X.shape, Y.shape)\n",
    "    return X, Y\n",
    "\n",
    "import random\n",
    "random.seed(42)\n",
    "random.shuffle(words)\n",
    "n1 = int(0.8*len(words))\n",
    "n2 = int(0.9*len(words))\n",
    "Xtr, Ytr = build_dataset(words[:n1])\n",
    "Xdev, Ydev = build_dataset(words[n1:n2])\n",
    "Xte, Yte = build_dataset(words[n2:])"
   ]
  },
  {
   "cell_type": "code",
   "execution_count": 98,
   "id": "53949c81-2a57-41b9-8ac1-caac42f4e016",
   "metadata": {},
   "outputs": [
    {
     "name": "stdout",
     "output_type": "stream",
     "text": [
      "training:  25626 words\n",
      "val:  3203 words\n",
      "test:  3204 words\n"
     ]
    }
   ],
   "source": [
    "print(\"training: \", n1, \"words\")\n",
    "print(\"val: \", n2-n1, \"words\")\n",
    "print(\"test: \", len(words)-n2, \"words\")"
   ]
  },
  {
   "cell_type": "markdown",
   "id": "4fe43988-08aa-49c3-8008-24ca06b0e053",
   "metadata": {},
   "source": [
    "### Cleaner version"
   ]
  },
  {
   "cell_type": "code",
   "execution_count": 99,
   "id": "08698b1c-67b6-479b-98a8-fee87b1414fc",
   "metadata": {},
   "outputs": [
    {
     "data": {
      "text/plain": [
       "(torch.Size([182625, 3]), torch.Size([182625]))"
      ]
     },
     "execution_count": 99,
     "metadata": {},
     "output_type": "execute_result"
    }
   ],
   "source": [
    "Xtr.shape, Ytr.shape"
   ]
  },
  {
   "cell_type": "code",
   "execution_count": 117,
   "id": "d3898f16-44f1-4ab9-9015-4b44d6d75add",
   "metadata": {},
   "outputs": [],
   "source": [
    "g = torch.Generator().manual_seed(2147483647)\n",
    "C = torch.randn((27,10), generator=g)\n",
    "W1 = torch.randn((30,200), generator=g)\n",
    "b1 = torch.randn(200, generator=g)\n",
    "W2 = torch.randn((200,27), generator=g)\n",
    "b2 = torch.randn(27, generator=g)\n",
    "parameters = [C, W1, b1, W2, b2]"
   ]
  },
  {
   "cell_type": "code",
   "execution_count": 118,
   "id": "3c5f0fec-7d23-4390-b2db-55a015d56cac",
   "metadata": {},
   "outputs": [
    {
     "data": {
      "text/plain": [
       "11897"
      ]
     },
     "execution_count": 118,
     "metadata": {},
     "output_type": "execute_result"
    }
   ],
   "source": [
    "sum( p.nelement() for p in parameters) #no. of parameters in total"
   ]
  },
  {
   "cell_type": "code",
   "execution_count": 119,
   "id": "4334eb20-bc4f-4a29-8521-fcb78ed62f34",
   "metadata": {},
   "outputs": [],
   "source": [
    "for p in parameters:\n",
    "    p.requires_grad = True"
   ]
  },
  {
   "cell_type": "code",
   "execution_count": 120,
   "id": "9f57023b-8ed7-4085-8309-359f0cf00c36",
   "metadata": {
    "scrolled": true
   },
   "outputs": [],
   "source": [
    "lossi = []\n",
    "stepi = []"
   ]
  },
  {
   "cell_type": "code",
   "execution_count": 147,
   "id": "510c0577-3ad0-4d92-b3dd-7d39b24282a2",
   "metadata": {
    "scrolled": true
   },
   "outputs": [
    {
     "name": "stdout",
     "output_type": "stream",
     "text": [
      "2.013486862182617\n"
     ]
    }
   ],
   "source": [
    "for i in range(10000):\n",
    "    #forward pass\n",
    "    #minibatch construct\n",
    "    ix = torch.randint(0, Xtr.shape[0], (256,)) # the training is much faster now!\n",
    "    #went from taking a couple of seconds to being almost instantaneous!\n",
    "    #because we are estimating only from 32 examples, the quality of the gradient is lower, so the direction of the gradient is not as reliable\n",
    "    #but we assume that the gradient is good enough that it is useful\n",
    "    #much better to have an approximate gradient and take more steps\n",
    "    #than it is to evaluate the exact gradient and take fewer steps.\n",
    "    \n",
    "    emb = C[Xtr[ix]] #(32,3,10)\n",
    "    h = torch.tanh(emb.view(-1,30) @ W1 + b1)\n",
    "    logits = h @ W2 + b2\n",
    "    # counts = logits.exp()\n",
    "    # probs = counts/counts.sum(1,keepdims=True)\n",
    "    # loss = -probs[tor_grad = True_grad = Truech.arange(32), Y].log().mean()\n",
    "    #much more efficient (used for classification)\n",
    "    #no new tensors made\n",
    "    #backward pass is made more efficient\n",
    "    #the results are well behaved, =>\n",
    "        #if one of the logits is 100, -> counts would have value inf for that logit\n",
    "        #impossible to calculate prob. and also the loss\n",
    "    loss = F.cross_entropy(logits,Ytr[ix]) \n",
    "    \n",
    "    #backward pass\n",
    "    for p in parameters:\n",
    "        p.grad = None\n",
    "    loss.backward()\n",
    "    #update\n",
    "    lr = 0.01 if i<100000 else 0.01\n",
    "    for p in parameters:\n",
    "        p.data += -lr * p.grad\n",
    "\n",
    "    #track stats\n",
    "    lossi.append(loss.log10().item())\n",
    "    stepi.append(i)\n",
    "print(loss.item())"
   ]
  },
  {
   "cell_type": "code",
   "execution_count": 148,
   "id": "1080e71b-bc0d-4ba4-bdbd-e073557f5109",
   "metadata": {
    "scrolled": true
   },
   "outputs": [
    {
     "data": {
      "image/png": "[encoded data removed]",
      "text/plain": [
       "<Figure size 640x480 with 1 Axes>"
      ]
     },
     "metadata": {},
     "output_type": "display_data"
    }
   ],
   "source": [
    "plt.plot(stepi, lossi)\n",
    "plt.show()"
   ]
  },
  {
   "cell_type": "code",
   "execution_count": 149,
   "id": "5aff8f38-ffd9-40d0-a9eb-c8d2fe1aaaf6",
   "metadata": {},
   "outputs": [
    {
     "data": {
      "text/plain": [
       "tensor(2.1356, grad_fn=<NllLossBackward0>)"
      ]
     },
     "execution_count": 149,
     "metadata": {},
     "output_type": "execute_result"
    }
   ],
   "source": [
    "emb = C[Xdev]\n",
    "h = torch.tanh(emb.view(-1,30)@W1 + b1)\n",
    "logits = h@W2 + b2\n",
    "loss = F.cross_entropy(logits,Ydev)\n",
    "loss"
   ]
  },
  {
   "cell_type": "code",
   "execution_count": 136,
   "id": "d46d8b23-54da-41e1-995b-22ea49d20caf",
   "metadata": {},
   "outputs": [
    {
     "data": {
      "text/plain": [
       "tensor(2.1455, grad_fn=<NllLossBackward0>)"
      ]
     },
     "execution_count": 136,
     "metadata": {},
     "output_type": "execute_result"
    }
   ],
   "source": [
    "emb = C[Xte]\n",
    "h = torch.tanh(emb.view(-1,30)@W1 + b1)\n",
    "logits = h@W2 + b2\n",
    "loss = F.cross_entropy(logits,Yte)\n",
    "loss"
   ]
  },
  {
   "cell_type": "code",
   "execution_count": 150,
   "id": "8bff3378-667b-4dee-ae32-5b305fe1850a",
   "metadata": {},
   "outputs": [
    {
     "data": {
      "image/png": "[encoded data removed]",
      "text/plain": [
       "<Figure size 800x800 with 1 Axes>"
      ]
     },
     "metadata": {},
     "output_type": "display_data"
    }
   ],
   "source": [
    "plt.figure(figsize=(8,8))\n",
    "plt.scatter(C[:,0].data ,C[:, 1].data, s=200)\n",
    "for i in range(C.shape[0]):\n",
    "    plt.text(C[i,0].item(), C[i,1].item(), itos[i], ha=\"center\", va=\"center\", color=\"white\")\n",
    "plt.grid('minor')"
   ]
  },
  {
   "cell_type": "markdown",
   "id": "be174586-27b6-435c-ae65-034b94312dcc",
   "metadata": {},
   "source": [
    "### Sample from the model"
   ]
  },
  {
   "cell_type": "code",
   "execution_count": 151,
   "id": "effd5f63-22da-41cc-9067-c8a649f76e80",
   "metadata": {},
   "outputs": [
    {
     "name": "stdout",
     "output_type": "stream",
     "text": [
      "mora.\n",
      "mayah.\n",
      "seel.\n",
      "nihayla.\n",
      "rethrstendraj.\n",
      "caileed.\n",
      "elin.\n",
      "shivonn.\n",
      "edelissopharleitzion.\n",
      "kalin.\n",
      "shubergiaganest.\n",
      "jair.\n",
      "jelipenteron.\n",
      "ububahdir.\n",
      "yarue.\n",
      "els.\n",
      "kaysh.\n",
      "stella.\n",
      "hal.\n",
      "salynn.\n"
     ]
    }
   ],
   "source": [
    "g = torch.Generator().manual_seed(2147483647 + 10)\n",
    "\n",
    "for _ in range(20):\n",
    "    \n",
    "    out = []\n",
    "    context = [0] * block_size # initialize with all ...\n",
    "    while True:\n",
    "      emb = C[torch.tensor([context])] # (1,block_size,d)\n",
    "      h = torch.tanh(emb.view(1, -1) @ W1 + b1)\n",
    "      logits = h @ W2 + b2\n",
    "      probs = F.softmax(logits, dim=1)\n",
    "      ix = torch.multinomial(probs, num_samples=1, generator=g).item()\n",
    "      context = context[1:] + [ix]\n",
    "      out.append(ix)\n",
    "      if ix == 0:\n",
    "        break\n",
    "    \n",
    "    print(''.join(itos[i] for i in out))"
   ]
  },
  {
   "cell_type": "code",
   "execution_count": null,
   "id": "4b84cf64-a4f4-4fc6-9a02-6d9cc438ce96",
   "metadata": {},
   "outputs": [],
   "source": []
  }
 ],
 "metadata": {
  "kernelspec": {
   "display_name": "Python 3 (ipykernel)",
   "language": "python",
   "name": "python3"
  },
  "language_info": {
   "codemirror_mode": {
    "name": "ipython",
    "version": 3
   },
   "file_extension": ".py",
   "mimetype": "text/x-python",
   "name": "python",
   "nbconvert_exporter": "python",
   "pygments_lexer": "ipython3",
   "version": "3.10.12"
  }
 },
 "nbformat": 4,
 "nbformat_minor": 5
}
