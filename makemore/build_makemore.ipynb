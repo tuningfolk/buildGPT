{
 "cells": [
  {
   "cell_type": "code",
   "execution_count": 1,
   "id": "8f361fe5-553a-4589-a5d8-006edf38ca4f",
   "metadata": {},
   "outputs": [],
   "source": [
    "words = open('names.txt', 'r').read().splitlines()"
   ]
  },
  {
   "cell_type": "code",
   "execution_count": 2,
   "id": "0b473542-89f0-4155-9343-e5e868109b08",
   "metadata": {},
   "outputs": [
    {
     "data": {
      "text/plain": [
       "['emma',\n",
       " 'olivia',\n",
       " 'ava',\n",
       " 'isabella',\n",
       " 'sophia',\n",
       " 'charlotte',\n",
       " 'mia',\n",
       " 'amelia',\n",
       " 'harper',\n",
       " 'evelyn']"
      ]
     },
     "execution_count": 2,
     "metadata": {},
     "output_type": "execute_result"
    }
   ],
   "source": [
    "words[:10]"
   ]
  },
  {
   "cell_type": "code",
   "execution_count": 5,
   "id": "080a3b9c-73b7-45dc-9a16-638614880011",
   "metadata": {},
   "outputs": [
    {
     "name": "stdout",
     "output_type": "stream",
     "text": [
      "No. of words:  32033\n",
      "smallest word:  an 2\n",
      "longest word:  muhammadibrahim 15\n"
     ]
    }
   ],
   "source": [
    "print(\"No. of words: \",len(words))\n",
    "smallest = min(words, key=len)\n",
    "largest = max(words, key=len)\n",
    "print(\"smallest word: \", smallest, len(smallest))\n",
    "print(\"longest word: \", largest, len(largest))"
   ]
  },
  {
   "cell_type": "code",
   "execution_count": null,
   "id": "e9c45dbd-f1ca-4598-992b-df0b44438ddd",
   "metadata": {},
   "outputs": [],
   "source": []
  }
 ],
 "metadata": {
  "kernelspec": {
   "display_name": "Python 3 (ipykernel)",
   "language": "python",
   "name": "python3"
  },
  "language_info": {
   "codemirror_mode": {
    "name": "ipython",
    "version": 3
   },
   "file_extension": ".py",
   "mimetype": "text/x-python",
   "name": "python",
   "nbconvert_exporter": "python",
   "pygments_lexer": "ipython3",
   "version": "3.10.12"
  }
 },
 "nbformat": 4,
 "nbformat_minor": 5
}
